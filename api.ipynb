{
 "cells": [
  {
   "cell_type": "code",
   "execution_count": null,
   "id": "09ef949d",
   "metadata": {},
   "outputs": [],
   "source": [
    "# import pandas as pd\n",
    "# pokedata=pd.read_json(\"pokeapi.json\")\n",
    "# print(pokedata)"
   ]
  },
  {
   "cell_type": "code",
   "execution_count": null,
   "id": "5f314676",
   "metadata": {},
   "outputs": [],
   "source": [
    "import cv2 as cv\n",
    "img=cv.imread(\"leon.png\")\n",
    "img.shape\n",
    "# scaledimg=img.reshape(())"
   ]
  },
  {
   "cell_type": "code",
   "execution_count": null,
   "id": "135cd941",
   "metadata": {},
   "outputs": [],
   "source": []
  }
 ],
 "metadata": {
  "kernelspec": {
   "display_name": "scikit-learn-practice",
   "language": "python",
   "name": "python3"
  },
  "language_info": {
   "codemirror_mode": {
    "name": "ipython",
    "version": 3
   },
   "file_extension": ".py",
   "mimetype": "text/x-python",
   "name": "python",
   "nbconvert_exporter": "python",
   "pygments_lexer": "ipython3",
   "version": "3.13.1"
  }
 },
 "nbformat": 4,
 "nbformat_minor": 5
}
