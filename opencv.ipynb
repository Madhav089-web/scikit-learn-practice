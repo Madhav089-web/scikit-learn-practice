{
 "cells": [
  {
   "cell_type": "code",
   "execution_count": 2,
   "id": "5de967a7",
   "metadata": {},
   "outputs": [],
   "source": [
    "import cv2 as cv"
   ]
  },
  {
   "cell_type": "code",
   "execution_count": null,
   "id": "8fd9f80f",
   "metadata": {},
   "outputs": [],
   "source": [
    "charizard=cv.imread(\"leon.png\")\n",
    "cv.imshow(\"leon and his charizard\",charizard)\n",
    "cv.waitKey(0)\n",
    "cv.destroyWindow(\"leon and his charizard\")\n",
    "# cv.imshow()"
   ]
  },
  {
   "cell_type": "code",
   "execution_count": null,
   "id": "da4556e9",
   "metadata": {},
   "outputs": [],
   "source": []
  },
  {
   "cell_type": "code",
   "execution_count": null,
   "id": "86770a9e",
   "metadata": {},
   "outputs": [],
   "source": [
    "globals()"
   ]
  },
  {
   "cell_type": "code",
   "execution_count": null,
   "id": "1f0ff196",
   "metadata": {},
   "outputs": [],
   "source": []
  }
 ],
 "metadata": {
  "kernelspec": {
   "display_name": "scikit-learn-practice",
   "language": "python",
   "name": "python3"
  },
  "language_info": {
   "codemirror_mode": {
    "name": "ipython",
    "version": 3
   },
   "file_extension": ".py",
   "mimetype": "text/x-python",
   "name": "python",
   "nbconvert_exporter": "python",
   "pygments_lexer": "ipython3",
   "version": "3.13.1"
  }
 },
 "nbformat": 4,
 "nbformat_minor": 5
}
