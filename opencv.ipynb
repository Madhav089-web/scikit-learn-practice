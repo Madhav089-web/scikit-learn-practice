{
 "cells": [
  {
   "cell_type": "code",
   "execution_count": 1,
   "id": "5de967a7",
   "metadata": {},
   "outputs": [],
   "source": [
    "import cv2 as cv"
   ]
  },
  {
   "cell_type": "markdown",
   "id": "3d4ecc32",
   "metadata": {},
   "source": []
  },
  {
   "cell_type": "code",
   "execution_count": 7,
   "id": "8fd9f80f",
   "metadata": {},
   "outputs": [
    {
     "name": "stdout",
     "output_type": "stream",
     "text": [
      "-1\n",
      "(1024, 1024, 3)\n",
      "(1024, 1536, 3)\n"
     ]
    },
    {
     "data": {
      "text/plain": [
       "True"
      ]
     },
     "execution_count": 7,
     "metadata": {},
     "output_type": "execute_result"
    }
   ],
   "source": [
    "ashCharizard=cv.imread(\"./charizard.png\")\n",
    "leonCharizard=cv.imread(\"leon.png\")\n",
    "newimg = cv.cvtColor(ashCharizard, cv.COLOR_BGR2GRAY)\n",
    "cv.imshow(\"ash and his charizard\",newimg)\n",
    "# cv.imshow(\"leon and his charizard\",leonCharizard)\n",
    "a=cv.waitKey(0)\n",
    "\n",
    "# cv.waitKey(2200)\n",
    "print(a)\n",
    "print(leonCharizard.shape)\n",
    "print(ashCharizard.shape)\n",
    "# cv.destroyWindow(\"ash and his charizard\")\n",
    "# cv.destroyWindow(\"leon and his charizard\")\n",
    "cv.destroyAllWindows()\n",
    "# cv.imshow()\n",
    "cv.imwrite(\"ashCharizard.png\",newimg)"
   ]
  },
  {
   "cell_type": "code",
   "execution_count": 3,
   "id": "da4556e9",
   "metadata": {},
   "outputs": [],
   "source": [
    "# import keyboard\n",
    "# lucario=cv.imread(\"lucario.png\")\n",
    "# print(lucario.shape)\n",
    "# reshapedlucario=cv.resize(lucario,(2048,2048))\n",
    "# cv.imshow(\"ash and mega lucario\",reshapedlucario)\n",
    "# a=cv.waitKey(0)\n",
    "# while True:\n",
    "#     if(keyboard.is_pressed(\"a\")):\n",
    "#         cv.destroyAllWindows()\n",
    "\n",
    "# cv.destroyAllWindows()\n",
    "# a"
   ]
  },
  {
   "cell_type": "code",
   "execution_count": 14,
   "id": "86770a9e",
   "metadata": {},
   "outputs": [
    {
     "name": "stdout",
     "output_type": "stream",
     "text": [
      "{'__name__': '__main__', '__doc__': 'Automatically created module for IPython interactive environment', '__package__': None, '__loader__': None, '__spec__': None, '__builtin__': <module 'builtins' (built-in)>, '__builtins__': <module 'builtins' (built-in)>, '_ih': ['', 'import cv2 as cv', 'ashCharizard=cv.imread(\"./charizard.png\")\\nleonCharizard=cv.imread(\"leon.png\")\\nnewimg=ashCharizard[0:1023,0:1500]\\ncv.imshow(\"ash and his charizard\",newimg)\\n# cv.imshow(\"leon and his charizard\",leonCharizard)\\na=cv.waitKey(0)\\n# cv.waitKey(2200)\\n# print(a)\\nprint(leonCharizard.shape)\\nprint(ashCharizard.shape)\\n# cv.destroyWindow(\"ash and his charizard\")\\n# cv.destroyWindow(\"leon and his charizard\")\\ncv.destroyAllWindows()\\n# cv.imshow()', '# import keyboard\\n# lucario=cv.imread(\"lucario.png\")\\n# print(lucario.shape)\\n# reshapedlucario=cv.resize(lucario,(2048,2048))\\n# cv.imshow(\"ash and mega lucario\",reshapedlucario)\\n# a=cv.waitKey(0)\\n# while True:\\n#     if(keyboard.is_pressed(\"a\")):\\n#         cv.destroyAllWindows()\\n\\n# cv.destroyAllWindows()\\n# a', 'import cv2 as cv', 'ashCharizard=cv.imread(\"./charizard.png\")\\nleonCharizard=cv.imread(\"leon.png\")\\nnewimg = cv.cvtColor(ashCharizard, cv.COLOR_BGR2GRAY)\\ncv.imshow(\"ash and his charizard\",newimg)\\n# cv.imshow(\"leon and his charizard\",leonCharizard)\\na=cv.waitKey(0)\\n\\n# cv.waitKey(2200)\\n# print(a)\\nprint(leonCharizard.shape)\\nprint(ashCharizard.shape)\\n# cv.destroyWindow(\"ash and his charizard\")\\n# cv.destroyWindow(\"leon and his charizard\")\\ncv.destroyAllWindows()\\n# cv.imshow()', 'ashCharizard=cv.imread(\"./charizard.png\")\\nleonCharizard=cv.imread(\"leon.png\")\\nnewimg = cv.cvtColor(ashCharizard, cv.COLOR_BGR2GRAY)\\ncv.imshow(\"ash and his charizard\",newimg)\\n# cv.imshow(\"leon and his charizard\",leonCharizard)\\na=cv.waitKey(0)\\n\\n# cv.waitKey(2200)\\nprint(a)\\nprint(leonCharizard.shape)\\nprint(ashCharizard.shape)\\n# cv.destroyWindow(\"ash and his charizard\")\\n# cv.destroyWindow(\"leon and his charizard\")\\ncv.destroyAllWindows()\\n# cv.imshow()', 'ashCharizard=cv.imread(\"./charizard.png\")\\nleonCharizard=cv.imread(\"leon.png\")\\nnewimg = cv.cvtColor(ashCharizard, cv.COLOR_BGR2GRAY)\\ncv.imshow(\"ash and his charizard\",newimg)\\n# cv.imshow(\"leon and his charizard\",leonCharizard)\\na=cv.waitKey(0)\\n\\n# cv.waitKey(2200)\\nprint(a)\\nprint(leonCharizard.shape)\\nprint(ashCharizard.shape)\\n# cv.destroyWindow(\"ash and his charizard\")\\n# cv.destroyWindow(\"leon and his charizard\")\\ncv.destroyAllWindows()\\n# cv.imshow()\\ncv.imwrite(\"ashCharizard.png\",newimg)', 'print(globals())\\n#iife\\n@lambda _:_()\\ndef main():\\n    a=9\\n    b=9\\n    print(globals())    \\n    return a\\n\\nprint(main)', 'print(globals())\\n#iife\\n@lambda _:_()\\ndef main():\\n    a=9\\n    b=9\\n    print(globals())    \\n    return a\\n\\nprint(main)\\nmain()', 'print(globals())\\n#iife\\n@lambda _:_()\\ndef main():\\n    a=9\\n    b=9\\n    print(globals())    \\n    return a\\n\\nprint(main)\\n# main()', 'print(globals())\\n#iife\\n@lambda _:_()\\ndef main():\\n    a=9\\n    b=9\\n    print(globals()[\"a\"])    \\n    return a\\n\\nprint(main)\\n# main()', 'print(globals())\\n#iife\\n@lambda _:_()\\ndef main():\\n    a=9\\n    b=9\\n    print(locals()[\"a\"])    \\n    return a\\n\\nprint(main)\\n# main()', 'print(globals())\\n#iife\\n@lambda _:_()\\ndef main():\\n    a=9\\n    b=9\\n    print(locals()[\"ashCharizard\"])    \\n    return a\\n\\nprint(main)\\n# main()', 'print(globals())\\n#iife\\n@lambda _:_()\\ndef main():\\n    a=9\\n    b=9\\n    # print(locals()[\"ashCharizard\"])    \\n    return a\\n\\nprint(main)\\n# main()'], '_oh': {7: True}, '_dh': [WindowsPath('c:/Users/HELLO/Desktop/scikit learn practice')], 'In': ['', 'import cv2 as cv', 'ashCharizard=cv.imread(\"./charizard.png\")\\nleonCharizard=cv.imread(\"leon.png\")\\nnewimg=ashCharizard[0:1023,0:1500]\\ncv.imshow(\"ash and his charizard\",newimg)\\n# cv.imshow(\"leon and his charizard\",leonCharizard)\\na=cv.waitKey(0)\\n# cv.waitKey(2200)\\n# print(a)\\nprint(leonCharizard.shape)\\nprint(ashCharizard.shape)\\n# cv.destroyWindow(\"ash and his charizard\")\\n# cv.destroyWindow(\"leon and his charizard\")\\ncv.destroyAllWindows()\\n# cv.imshow()', '# import keyboard\\n# lucario=cv.imread(\"lucario.png\")\\n# print(lucario.shape)\\n# reshapedlucario=cv.resize(lucario,(2048,2048))\\n# cv.imshow(\"ash and mega lucario\",reshapedlucario)\\n# a=cv.waitKey(0)\\n# while True:\\n#     if(keyboard.is_pressed(\"a\")):\\n#         cv.destroyAllWindows()\\n\\n# cv.destroyAllWindows()\\n# a', 'import cv2 as cv', 'ashCharizard=cv.imread(\"./charizard.png\")\\nleonCharizard=cv.imread(\"leon.png\")\\nnewimg = cv.cvtColor(ashCharizard, cv.COLOR_BGR2GRAY)\\ncv.imshow(\"ash and his charizard\",newimg)\\n# cv.imshow(\"leon and his charizard\",leonCharizard)\\na=cv.waitKey(0)\\n\\n# cv.waitKey(2200)\\n# print(a)\\nprint(leonCharizard.shape)\\nprint(ashCharizard.shape)\\n# cv.destroyWindow(\"ash and his charizard\")\\n# cv.destroyWindow(\"leon and his charizard\")\\ncv.destroyAllWindows()\\n# cv.imshow()', 'ashCharizard=cv.imread(\"./charizard.png\")\\nleonCharizard=cv.imread(\"leon.png\")\\nnewimg = cv.cvtColor(ashCharizard, cv.COLOR_BGR2GRAY)\\ncv.imshow(\"ash and his charizard\",newimg)\\n# cv.imshow(\"leon and his charizard\",leonCharizard)\\na=cv.waitKey(0)\\n\\n# cv.waitKey(2200)\\nprint(a)\\nprint(leonCharizard.shape)\\nprint(ashCharizard.shape)\\n# cv.destroyWindow(\"ash and his charizard\")\\n# cv.destroyWindow(\"leon and his charizard\")\\ncv.destroyAllWindows()\\n# cv.imshow()', 'ashCharizard=cv.imread(\"./charizard.png\")\\nleonCharizard=cv.imread(\"leon.png\")\\nnewimg = cv.cvtColor(ashCharizard, cv.COLOR_BGR2GRAY)\\ncv.imshow(\"ash and his charizard\",newimg)\\n# cv.imshow(\"leon and his charizard\",leonCharizard)\\na=cv.waitKey(0)\\n\\n# cv.waitKey(2200)\\nprint(a)\\nprint(leonCharizard.shape)\\nprint(ashCharizard.shape)\\n# cv.destroyWindow(\"ash and his charizard\")\\n# cv.destroyWindow(\"leon and his charizard\")\\ncv.destroyAllWindows()\\n# cv.imshow()\\ncv.imwrite(\"ashCharizard.png\",newimg)', 'print(globals())\\n#iife\\n@lambda _:_()\\ndef main():\\n    a=9\\n    b=9\\n    print(globals())    \\n    return a\\n\\nprint(main)', 'print(globals())\\n#iife\\n@lambda _:_()\\ndef main():\\n    a=9\\n    b=9\\n    print(globals())    \\n    return a\\n\\nprint(main)\\nmain()', 'print(globals())\\n#iife\\n@lambda _:_()\\ndef main():\\n    a=9\\n    b=9\\n    print(globals())    \\n    return a\\n\\nprint(main)\\n# main()', 'print(globals())\\n#iife\\n@lambda _:_()\\ndef main():\\n    a=9\\n    b=9\\n    print(globals()[\"a\"])    \\n    return a\\n\\nprint(main)\\n# main()', 'print(globals())\\n#iife\\n@lambda _:_()\\ndef main():\\n    a=9\\n    b=9\\n    print(locals()[\"a\"])    \\n    return a\\n\\nprint(main)\\n# main()', 'print(globals())\\n#iife\\n@lambda _:_()\\ndef main():\\n    a=9\\n    b=9\\n    print(locals()[\"ashCharizard\"])    \\n    return a\\n\\nprint(main)\\n# main()', 'print(globals())\\n#iife\\n@lambda _:_()\\ndef main():\\n    a=9\\n    b=9\\n    # print(locals()[\"ashCharizard\"])    \\n    return a\\n\\nprint(main)\\n# main()'], 'Out': {7: True}, 'get_ipython': <bound method InteractiveShell.get_ipython of <ipykernel.zmqshell.ZMQInteractiveShell object at 0x00000151E57C0980>>, 'exit': <IPython.core.autocall.ZMQExitAutocall object at 0x00000151E58696A0>, 'quit': <IPython.core.autocall.ZMQExitAutocall object at 0x00000151E58696A0>, 'open': <function open at 0x00000151E354A2A0>, '_': True, '__': '', '___': '', '__vsc_ipynb_file__': 'c:\\\\Users\\\\HELLO\\\\Desktop\\\\scikit learn practice\\\\opencv.ipynb', '_i': 'print(globals())\\n#iife\\n@lambda _:_()\\ndef main():\\n    a=9\\n    b=9\\n    print(locals()[\"ashCharizard\"])    \\n    return a\\n\\nprint(main)\\n# main()', '_ii': 'print(globals())\\n#iife\\n@lambda _:_()\\ndef main():\\n    a=9\\n    b=9\\n    print(locals()[\"a\"])    \\n    return a\\n\\nprint(main)\\n# main()', '_iii': 'print(globals())\\n#iife\\n@lambda _:_()\\ndef main():\\n    a=9\\n    b=9\\n    print(globals()[\"a\"])    \\n    return a\\n\\nprint(main)\\n# main()', '_i1': 'import cv2 as cv', 'cv': <module 'cv2' from 'c:\\\\Users\\\\HELLO\\\\Desktop\\\\scikit learn practice\\\\.venv\\\\Lib\\\\site-packages\\\\cv2\\\\__init__.py'>, '_i2': 'ashCharizard=cv.imread(\"./charizard.png\")\\nleonCharizard=cv.imread(\"leon.png\")\\nnewimg=ashCharizard[0:1023,0:1500]\\ncv.imshow(\"ash and his charizard\",newimg)\\n# cv.imshow(\"leon and his charizard\",leonCharizard)\\na=cv.waitKey(0)\\n# cv.waitKey(2200)\\n# print(a)\\nprint(leonCharizard.shape)\\nprint(ashCharizard.shape)\\n# cv.destroyWindow(\"ash and his charizard\")\\n# cv.destroyWindow(\"leon and his charizard\")\\ncv.destroyAllWindows()\\n# cv.imshow()', 'ashCharizard': array([[[152, 120,  44],\n",
      "        [151, 117,  43],\n",
      "        [154, 123,  47],\n",
      "        ...,\n",
      "        [ 39,  92, 169],\n",
      "        [ 44,  96, 171],\n",
      "        [ 38,  92, 167]],\n",
      "\n",
      "       [[154, 123,  47],\n",
      "        [154, 123,  45],\n",
      "        [153, 120,  46],\n",
      "        ...,\n",
      "        [ 45,  97, 173],\n",
      "        [ 40,  94, 169],\n",
      "        [ 40,  93, 166]],\n",
      "\n",
      "       [[154, 122,  46],\n",
      "        [153, 121,  46],\n",
      "        [152, 119,  46],\n",
      "        ...,\n",
      "        [ 42,  97, 170],\n",
      "        [ 32,  87, 163],\n",
      "        [ 39,  92, 166]],\n",
      "\n",
      "       ...,\n",
      "\n",
      "       [[ 76, 109,  61],\n",
      "        [ 64,  99,  47],\n",
      "        [ 81, 119,  69],\n",
      "        ...,\n",
      "        [ 75,  98,  49],\n",
      "        [ 83, 105,  55],\n",
      "        [ 72,  96,  47]],\n",
      "\n",
      "       [[ 71, 104,  55],\n",
      "        [ 74, 108,  58],\n",
      "        [ 90, 126,  80],\n",
      "        ...,\n",
      "        [ 70,  94,  46],\n",
      "        [ 75, 100,  51],\n",
      "        [ 76,  97,  49]],\n",
      "\n",
      "       [[ 68, 103,  54],\n",
      "        [ 69, 104,  53],\n",
      "        [ 79, 116,  64],\n",
      "        ...,\n",
      "        [ 71,  92,  47],\n",
      "        [ 73,  95,  49],\n",
      "        [ 74,  95,  50]]], shape=(1024, 1536, 3), dtype=uint8), 'leonCharizard': array([[[163, 177, 146],\n",
      "        [166, 177, 148],\n",
      "        [162, 176, 148],\n",
      "        ...,\n",
      "        [163, 172, 127],\n",
      "        [163, 171, 130],\n",
      "        [170, 174, 138]],\n",
      "\n",
      "       [[163, 176, 148],\n",
      "        [158, 174, 142],\n",
      "        [162, 176, 144],\n",
      "        ...,\n",
      "        [167, 170, 129],\n",
      "        [170, 176, 138],\n",
      "        [170, 177, 135]],\n",
      "\n",
      "       [[164, 178, 148],\n",
      "        [164, 177, 145],\n",
      "        [169, 183, 152],\n",
      "        ...,\n",
      "        [161, 168, 130],\n",
      "        [170, 176, 137],\n",
      "        [165, 171, 133]],\n",
      "\n",
      "       ...,\n",
      "\n",
      "       [[ 42, 146, 166],\n",
      "        [ 43, 151, 166],\n",
      "        [ 49, 157, 174],\n",
      "        ...,\n",
      "        [ 55, 165, 164],\n",
      "        [ 59, 169, 168],\n",
      "        [ 53, 165, 162]],\n",
      "\n",
      "       [[ 48, 151, 166],\n",
      "        [ 46, 152, 166],\n",
      "        [ 56, 162, 177],\n",
      "        ...,\n",
      "        [ 54, 163, 163],\n",
      "        [ 55, 164, 164],\n",
      "        [ 52, 162, 161]],\n",
      "\n",
      "       [[ 48, 152, 169],\n",
      "        [ 59, 162, 175],\n",
      "        [ 60, 163, 179],\n",
      "        ...,\n",
      "        [ 49, 160, 163],\n",
      "        [ 50, 159, 162],\n",
      "        [ 51, 162, 159]]], shape=(1024, 1024, 3), dtype=uint8), 'newimg': array([[101,  99, 104, ..., 109, 112, 108],\n",
      "       [104, 103, 102, ..., 114, 110, 109],\n",
      "       [103, 102, 101, ..., 113, 103, 108],\n",
      "       ...,\n",
      "       [ 91,  79, 100, ...,  81,  88,  79],\n",
      "       [ 86,  89, 108, ...,  77,  82,  80],\n",
      "       [ 84,  85,  96, ...,  76,  79,  79]],\n",
      "      shape=(1024, 1536), dtype=uint8), 'a': -1, '_i3': '# import keyboard\\n# lucario=cv.imread(\"lucario.png\")\\n# print(lucario.shape)\\n# reshapedlucario=cv.resize(lucario,(2048,2048))\\n# cv.imshow(\"ash and mega lucario\",reshapedlucario)\\n# a=cv.waitKey(0)\\n# while True:\\n#     if(keyboard.is_pressed(\"a\")):\\n#         cv.destroyAllWindows()\\n\\n# cv.destroyAllWindows()\\n# a', '_i4': 'import cv2 as cv', '_i5': 'ashCharizard=cv.imread(\"./charizard.png\")\\nleonCharizard=cv.imread(\"leon.png\")\\nnewimg = cv.cvtColor(ashCharizard, cv.COLOR_BGR2GRAY)\\ncv.imshow(\"ash and his charizard\",newimg)\\n# cv.imshow(\"leon and his charizard\",leonCharizard)\\na=cv.waitKey(0)\\n\\n# cv.waitKey(2200)\\n# print(a)\\nprint(leonCharizard.shape)\\nprint(ashCharizard.shape)\\n# cv.destroyWindow(\"ash and his charizard\")\\n# cv.destroyWindow(\"leon and his charizard\")\\ncv.destroyAllWindows()\\n# cv.imshow()', '_i6': 'ashCharizard=cv.imread(\"./charizard.png\")\\nleonCharizard=cv.imread(\"leon.png\")\\nnewimg = cv.cvtColor(ashCharizard, cv.COLOR_BGR2GRAY)\\ncv.imshow(\"ash and his charizard\",newimg)\\n# cv.imshow(\"leon and his charizard\",leonCharizard)\\na=cv.waitKey(0)\\n\\n# cv.waitKey(2200)\\nprint(a)\\nprint(leonCharizard.shape)\\nprint(ashCharizard.shape)\\n# cv.destroyWindow(\"ash and his charizard\")\\n# cv.destroyWindow(\"leon and his charizard\")\\ncv.destroyAllWindows()\\n# cv.imshow()', '_i7': 'ashCharizard=cv.imread(\"./charizard.png\")\\nleonCharizard=cv.imread(\"leon.png\")\\nnewimg = cv.cvtColor(ashCharizard, cv.COLOR_BGR2GRAY)\\ncv.imshow(\"ash and his charizard\",newimg)\\n# cv.imshow(\"leon and his charizard\",leonCharizard)\\na=cv.waitKey(0)\\n\\n# cv.waitKey(2200)\\nprint(a)\\nprint(leonCharizard.shape)\\nprint(ashCharizard.shape)\\n# cv.destroyWindow(\"ash and his charizard\")\\n# cv.destroyWindow(\"leon and his charizard\")\\ncv.destroyAllWindows()\\n# cv.imshow()\\ncv.imwrite(\"ashCharizard.png\",newimg)', '_7': True, '_i8': 'print(globals())\\n#iife\\n@lambda _:_()\\ndef main():\\n    a=9\\n    b=9\\n    print(globals())    \\n    return a\\n\\nprint(main)', 'main': 9, '_i9': 'print(globals())\\n#iife\\n@lambda _:_()\\ndef main():\\n    a=9\\n    b=9\\n    print(globals())    \\n    return a\\n\\nprint(main)\\nmain()', '_i10': 'print(globals())\\n#iife\\n@lambda _:_()\\ndef main():\\n    a=9\\n    b=9\\n    print(globals())    \\n    return a\\n\\nprint(main)\\n# main()', '_i11': 'print(globals())\\n#iife\\n@lambda _:_()\\ndef main():\\n    a=9\\n    b=9\\n    print(globals()[\"a\"])    \\n    return a\\n\\nprint(main)\\n# main()', '_i12': 'print(globals())\\n#iife\\n@lambda _:_()\\ndef main():\\n    a=9\\n    b=9\\n    print(locals()[\"a\"])    \\n    return a\\n\\nprint(main)\\n# main()', '_i13': 'print(globals())\\n#iife\\n@lambda _:_()\\ndef main():\\n    a=9\\n    b=9\\n    print(locals()[\"ashCharizard\"])    \\n    return a\\n\\nprint(main)\\n# main()', '_i14': 'print(globals())\\n#iife\\n@lambda _:_()\\ndef main():\\n    a=9\\n    b=9\\n    # print(locals()[\"ashCharizard\"])    \\n    return a\\n\\nprint(main)\\n# main()'}\n",
      "9\n"
     ]
    }
   ],
   "source": [
    "print(globals())\n",
    "#iife\n",
    "@lambda _:_()\n",
    "def main():\n",
    "    a=9\n",
    "    b=9\n",
    "    # print(locals()[\"ashCharizard\"])    \n",
    "    return a\n",
    "\n",
    "print(main)\n",
    "# main()"
   ]
  },
  {
   "cell_type": "code",
   "execution_count": null,
   "id": "1f0ff196",
   "metadata": {},
   "outputs": [],
   "source": []
  }
 ],
 "metadata": {
  "kernelspec": {
   "display_name": "scikit-learn-practice",
   "language": "python",
   "name": "python3"
  },
  "language_info": {
   "codemirror_mode": {
    "name": "ipython",
    "version": 3
   },
   "file_extension": ".py",
   "mimetype": "text/x-python",
   "name": "python",
   "nbconvert_exporter": "python",
   "pygments_lexer": "ipython3",
   "version": "3.13.1"
  }
 },
 "nbformat": 4,
 "nbformat_minor": 5
}
